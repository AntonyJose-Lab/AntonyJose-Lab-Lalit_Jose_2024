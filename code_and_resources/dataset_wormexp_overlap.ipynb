{
 "cells": [
  {
   "cell_type": "code",
   "execution_count": 1,
   "metadata": {},
   "outputs": [],
   "source": [
    "import pandas as pd"
   ]
  },
  {
   "cell_type": "code",
   "execution_count": 2,
   "metadata": {},
   "outputs": [],
   "source": [
    "# loading datasets\n",
    "wormexp = pd.read_excel('WormExp_2_0_info_20170727_Unique_Studies.xlsx')\n",
    "data = pd.read_excel('Extended_Data_Table.xlsx')"
   ]
  },
  {
   "cell_type": "code",
   "execution_count": 3,
   "metadata": {},
   "outputs": [
    {
     "data": {
      "text/html": [
       "<div>\n",
       "<style scoped>\n",
       "    .dataframe tbody tr th:only-of-type {\n",
       "        vertical-align: middle;\n",
       "    }\n",
       "\n",
       "    .dataframe tbody tr th {\n",
       "        vertical-align: top;\n",
       "    }\n",
       "\n",
       "    .dataframe thead th {\n",
       "        text-align: right;\n",
       "    }\n",
       "</style>\n",
       "<table border=\"1\" class=\"dataframe\">\n",
       "  <thead>\n",
       "    <tr style=\"text-align: right;\">\n",
       "      <th></th>\n",
       "      <th>References</th>\n",
       "    </tr>\n",
       "  </thead>\n",
       "  <tbody>\n",
       "    <tr>\n",
       "      <th>0</th>\n",
       "      <td>http://www.ncbi.nlm.nih.gov/pubmed/11557892</td>\n",
       "    </tr>\n",
       "    <tr>\n",
       "      <th>1</th>\n",
       "      <td>http://www.ncbi.nlm.nih.gov/pubmed/16168746</td>\n",
       "    </tr>\n",
       "    <tr>\n",
       "      <th>2</th>\n",
       "      <td>http://www.ncbi.nlm.nih.gov/pubmed/16962739</td>\n",
       "    </tr>\n",
       "    <tr>\n",
       "      <th>3</th>\n",
       "      <td>http://www.ncbi.nlm.nih.gov/pubmed/16380712</td>\n",
       "    </tr>\n",
       "    <tr>\n",
       "      <th>4</th>\n",
       "      <td>http://www.ncbi.nlm.nih.gov/pubmed/11697852</td>\n",
       "    </tr>\n",
       "  </tbody>\n",
       "</table>\n",
       "</div>"
      ],
      "text/plain": [
       "                                    References\n",
       "0  http://www.ncbi.nlm.nih.gov/pubmed/11557892\n",
       "1  http://www.ncbi.nlm.nih.gov/pubmed/16168746\n",
       "2  http://www.ncbi.nlm.nih.gov/pubmed/16962739\n",
       "3  http://www.ncbi.nlm.nih.gov/pubmed/16380712\n",
       "4  http://www.ncbi.nlm.nih.gov/pubmed/11697852"
      ]
     },
     "execution_count": 3,
     "metadata": {},
     "output_type": "execute_result"
    }
   ],
   "source": [
    "wormexp.head()"
   ]
  },
  {
   "cell_type": "code",
   "execution_count": 4,
   "metadata": {},
   "outputs": [
    {
     "data": {
      "text/html": [
       "<div>\n",
       "<style scoped>\n",
       "    .dataframe tbody tr th:only-of-type {\n",
       "        vertical-align: middle;\n",
       "    }\n",
       "\n",
       "    .dataframe tbody tr th {\n",
       "        vertical-align: top;\n",
       "    }\n",
       "\n",
       "    .dataframe thead th {\n",
       "        text-align: right;\n",
       "    }\n",
       "</style>\n",
       "<table border=\"1\" class=\"dataframe\">\n",
       "  <thead>\n",
       "    <tr style=\"text-align: right;\">\n",
       "      <th></th>\n",
       "      <th>Study</th>\n",
       "      <th>Pubmed</th>\n",
       "      <th>PMC</th>\n",
       "    </tr>\n",
       "  </thead>\n",
       "  <tbody>\n",
       "    <tr>\n",
       "      <th>0</th>\n",
       "      <td>2007 Welker et al RNA</td>\n",
       "      <td>https://pubmed.ncbi.nlm.nih.gov/17526642/</td>\n",
       "      <td>NaN</td>\n",
       "    </tr>\n",
       "    <tr>\n",
       "      <th>1</th>\n",
       "      <td>2007 Zhang et al Mol Cell</td>\n",
       "      <td>https://pubmed.ncbi.nlm.nih.gov/18042455/</td>\n",
       "      <td>NaN</td>\n",
       "    </tr>\n",
       "    <tr>\n",
       "      <th>2</th>\n",
       "      <td>2008 Batista et al Mol Cell</td>\n",
       "      <td>https://pubmed.ncbi.nlm.nih.gov/18571452/</td>\n",
       "      <td>NaN</td>\n",
       "    </tr>\n",
       "    <tr>\n",
       "      <th>3</th>\n",
       "      <td>2008 Spike et al Development</td>\n",
       "      <td>https://pubmed.ncbi.nlm.nih.gov/18234720/</td>\n",
       "      <td>NaN</td>\n",
       "    </tr>\n",
       "    <tr>\n",
       "      <th>4</th>\n",
       "      <td>2008 Wang et al Curr Biol</td>\n",
       "      <td>https://pubmed.ncbi.nlm.nih.gov/18501605/</td>\n",
       "      <td>NaN</td>\n",
       "    </tr>\n",
       "  </tbody>\n",
       "</table>\n",
       "</div>"
      ],
      "text/plain": [
       "                          Study                                     Pubmed  \\\n",
       "0         2007 Welker et al RNA  https://pubmed.ncbi.nlm.nih.gov/17526642/   \n",
       "1     2007 Zhang et al Mol Cell  https://pubmed.ncbi.nlm.nih.gov/18042455/   \n",
       "2   2008 Batista et al Mol Cell  https://pubmed.ncbi.nlm.nih.gov/18571452/   \n",
       "3  2008 Spike et al Development  https://pubmed.ncbi.nlm.nih.gov/18234720/   \n",
       "4     2008 Wang et al Curr Biol  https://pubmed.ncbi.nlm.nih.gov/18501605/   \n",
       "\n",
       "   PMC  \n",
       "0  NaN  \n",
       "1  NaN  \n",
       "2  NaN  \n",
       "3  NaN  \n",
       "4  NaN  "
      ]
     },
     "execution_count": 4,
     "metadata": {},
     "output_type": "execute_result"
    }
   ],
   "source": [
    "data.head()"
   ]
  },
  {
   "cell_type": "code",
   "execution_count": 5,
   "metadata": {},
   "outputs": [],
   "source": [
    "wormexp_ref = wormexp['References'].to_frame()\n",
    "data_ref = data['Pubmed'].to_frame()"
   ]
  },
  {
   "cell_type": "code",
   "execution_count": 6,
   "metadata": {},
   "outputs": [],
   "source": [
    "# extracting Pubmed IDs from URLs\n",
    "wormexp_ref['pubmed_id'] = wormexp_ref['References'].str[-8:]\n",
    "data_ref['pubmed_id'] = data_ref['Pubmed'].str[-9:-1]"
   ]
  },
  {
   "cell_type": "code",
   "execution_count": 7,
   "metadata": {},
   "outputs": [
    {
     "data": {
      "text/html": [
       "<div>\n",
       "<style scoped>\n",
       "    .dataframe tbody tr th:only-of-type {\n",
       "        vertical-align: middle;\n",
       "    }\n",
       "\n",
       "    .dataframe tbody tr th {\n",
       "        vertical-align: top;\n",
       "    }\n",
       "\n",
       "    .dataframe thead th {\n",
       "        text-align: right;\n",
       "    }\n",
       "</style>\n",
       "<table border=\"1\" class=\"dataframe\">\n",
       "  <thead>\n",
       "    <tr style=\"text-align: right;\">\n",
       "      <th></th>\n",
       "      <th>References</th>\n",
       "      <th>pubmed_id</th>\n",
       "    </tr>\n",
       "  </thead>\n",
       "  <tbody>\n",
       "    <tr>\n",
       "      <th>0</th>\n",
       "      <td>http://www.ncbi.nlm.nih.gov/pubmed/11557892</td>\n",
       "      <td>11557892</td>\n",
       "    </tr>\n",
       "    <tr>\n",
       "      <th>1</th>\n",
       "      <td>http://www.ncbi.nlm.nih.gov/pubmed/16168746</td>\n",
       "      <td>16168746</td>\n",
       "    </tr>\n",
       "    <tr>\n",
       "      <th>2</th>\n",
       "      <td>http://www.ncbi.nlm.nih.gov/pubmed/16962739</td>\n",
       "      <td>16962739</td>\n",
       "    </tr>\n",
       "    <tr>\n",
       "      <th>3</th>\n",
       "      <td>http://www.ncbi.nlm.nih.gov/pubmed/16380712</td>\n",
       "      <td>16380712</td>\n",
       "    </tr>\n",
       "    <tr>\n",
       "      <th>4</th>\n",
       "      <td>http://www.ncbi.nlm.nih.gov/pubmed/11697852</td>\n",
       "      <td>11697852</td>\n",
       "    </tr>\n",
       "  </tbody>\n",
       "</table>\n",
       "</div>"
      ],
      "text/plain": [
       "                                    References pubmed_id\n",
       "0  http://www.ncbi.nlm.nih.gov/pubmed/11557892  11557892\n",
       "1  http://www.ncbi.nlm.nih.gov/pubmed/16168746  16168746\n",
       "2  http://www.ncbi.nlm.nih.gov/pubmed/16962739  16962739\n",
       "3  http://www.ncbi.nlm.nih.gov/pubmed/16380712  16380712\n",
       "4  http://www.ncbi.nlm.nih.gov/pubmed/11697852  11697852"
      ]
     },
     "execution_count": 7,
     "metadata": {},
     "output_type": "execute_result"
    }
   ],
   "source": [
    "wormexp_ref.head()"
   ]
  },
  {
   "cell_type": "code",
   "execution_count": 8,
   "metadata": {},
   "outputs": [
    {
     "data": {
      "text/html": [
       "<div>\n",
       "<style scoped>\n",
       "    .dataframe tbody tr th:only-of-type {\n",
       "        vertical-align: middle;\n",
       "    }\n",
       "\n",
       "    .dataframe tbody tr th {\n",
       "        vertical-align: top;\n",
       "    }\n",
       "\n",
       "    .dataframe thead th {\n",
       "        text-align: right;\n",
       "    }\n",
       "</style>\n",
       "<table border=\"1\" class=\"dataframe\">\n",
       "  <thead>\n",
       "    <tr style=\"text-align: right;\">\n",
       "      <th></th>\n",
       "      <th>Pubmed</th>\n",
       "      <th>pubmed_id</th>\n",
       "    </tr>\n",
       "  </thead>\n",
       "  <tbody>\n",
       "    <tr>\n",
       "      <th>0</th>\n",
       "      <td>https://pubmed.ncbi.nlm.nih.gov/17526642/</td>\n",
       "      <td>17526642</td>\n",
       "    </tr>\n",
       "    <tr>\n",
       "      <th>1</th>\n",
       "      <td>https://pubmed.ncbi.nlm.nih.gov/18042455/</td>\n",
       "      <td>18042455</td>\n",
       "    </tr>\n",
       "    <tr>\n",
       "      <th>2</th>\n",
       "      <td>https://pubmed.ncbi.nlm.nih.gov/18571452/</td>\n",
       "      <td>18571452</td>\n",
       "    </tr>\n",
       "    <tr>\n",
       "      <th>3</th>\n",
       "      <td>https://pubmed.ncbi.nlm.nih.gov/18234720/</td>\n",
       "      <td>18234720</td>\n",
       "    </tr>\n",
       "    <tr>\n",
       "      <th>4</th>\n",
       "      <td>https://pubmed.ncbi.nlm.nih.gov/18501605/</td>\n",
       "      <td>18501605</td>\n",
       "    </tr>\n",
       "  </tbody>\n",
       "</table>\n",
       "</div>"
      ],
      "text/plain": [
       "                                      Pubmed pubmed_id\n",
       "0  https://pubmed.ncbi.nlm.nih.gov/17526642/  17526642\n",
       "1  https://pubmed.ncbi.nlm.nih.gov/18042455/  18042455\n",
       "2  https://pubmed.ncbi.nlm.nih.gov/18571452/  18571452\n",
       "3  https://pubmed.ncbi.nlm.nih.gov/18234720/  18234720\n",
       "4  https://pubmed.ncbi.nlm.nih.gov/18501605/  18501605"
      ]
     },
     "execution_count": 8,
     "metadata": {},
     "output_type": "execute_result"
    }
   ],
   "source": [
    "data_ref.head()"
   ]
  },
  {
   "cell_type": "code",
   "execution_count": 9,
   "metadata": {},
   "outputs": [],
   "source": [
    "# merging the two dataframes to see number of shared studies\n",
    "common = wormexp_ref.merge(data_ref, left_on='pubmed_id', right_on='pubmed_id', how='inner')"
   ]
  },
  {
   "cell_type": "code",
   "execution_count": 10,
   "metadata": {},
   "outputs": [
    {
     "name": "stdout",
     "output_type": "stream",
     "text": [
      "nubmer of common datasets is 29\n"
     ]
    }
   ],
   "source": [
    "print(f\"nubmer of common datasets is {len(common)}\")"
   ]
  }
 ],
 "metadata": {
  "kernelspec": {
   "display_name": "base",
   "language": "python",
   "name": "python3"
  },
  "language_info": {
   "codemirror_mode": {
    "name": "ipython",
    "version": 3
   },
   "file_extension": ".py",
   "mimetype": "text/x-python",
   "name": "python",
   "nbconvert_exporter": "python",
   "pygments_lexer": "ipython3",
   "version": "3.10.12"
  }
 },
 "nbformat": 4,
 "nbformat_minor": 2
}
